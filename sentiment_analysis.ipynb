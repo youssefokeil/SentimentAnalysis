{
 "cells": [
  {
   "cell_type": "markdown",
   "metadata": {},
   "source": [
    "# Introduction"
   ]
  },
  {
   "cell_type": "markdown",
   "metadata": {},
   "source": [
    "In this notebook, I'll attempt to make a sentiment prediction on movie reviews and tweets. We'll start by importing our libraries and loading our dataset."
   ]
  },
  {
   "cell_type": "markdown",
   "metadata": {},
   "source": [
    "# Importing Libraries"
   ]
  },
  {
   "cell_type": "code",
   "execution_count": 1,
   "metadata": {},
   "outputs": [],
   "source": [
    "import csv\n",
    "import numpy as np"
   ]
  },
  {
   "cell_type": "markdown",
   "metadata": {},
   "source": [
    "# Loading & Visualizing Dataset"
   ]
  },
  {
   "cell_type": "code",
   "execution_count": 111,
   "metadata": {},
   "outputs": [],
   "source": [
    "text_data,labels=[],[]\n",
    "with open('sentiment-dataset/imdb-dataset/train.csv','r') as traincsv:\n",
    "    reader=csv.DictReader(traincsv)\n",
    "    for row in reader:\n",
    "        text_data.append(row[\"\\ufefftext\"])\n",
    "        labels.append(int(row['label']))\n",
    "    "
   ]
  },
  {
   "cell_type": "code",
   "execution_count": 112,
   "metadata": {},
   "outputs": [
    {
     "name": "stdout",
     "output_type": "stream",
     "text": [
      "first few labels [0, 0, 0, 0, 1]\n",
      "first two reviews ['I grew up (b. 1965) watching and loving the Thunderbirds. All my mates at school watched. We played \"Thunderbirds\" before school, during lunch and after school. We all wanted to be Virgil or Scott. No one wanted to be Alan. Counting down from 5 became an art form. I took my children to see the movie hoping they would get a glimpse of what I loved as a child. How bitterly disappointing. The only high point was the snappy theme tune. Not that it could compare with the original score of the Thunderbirds. Thankfully early Saturday mornings one television channel still plays reruns of the series Gerry Anderson and his wife created. Jonatha Frakes should hand in his directors chair, his version was completely hopeless. A waste of film. Utter rubbish. A CGI remake may be acceptable but replacing marionettes with Homo sapiens subsp. sapiens was a huge error of judgment.', \"When I put this movie in my DVD player, and sat down with a coke and some chips, I had some expectations. I was hoping that this movie would contain some of the strong-points of the first movie: Awsome animation, good flowing story, excellent voice cast, funny comedy and a kick-ass soundtrack. But, to my disappointment, not any of this is to be found in Atlantis: Milo's Return. Had I read some reviews first, I might not have been so let down. The following paragraph will be directed to those who have seen the first movie, and who enjoyed it primarily for the points mentioned.<br /><br />When the first scene appears, your in for a shock if you just picked Atlantis: Milo's Return from the display-case at your local videoshop (or whatever), and had the expectations I had. The music feels as a bad imitation of the first movie, and the voice cast has been replaced by a not so fitting one. (With the exception of a few characters, like the voice of Sweet). The actual drawings isnt that bad, but the animation in particular is a sad sight. The storyline is also pretty weak, as its more like three episodes of Schooby-Doo than the single adventurous story we got the last time. But dont misunderstand, it's not very good Schooby-Doo episodes. I didnt laugh a single time, although I might have sniggered once or twice.<br /><br />To the audience who haven't seen the first movie, or don't especially care for a similar sequel, here is a fast review of this movie as a stand-alone product: If you liked schooby-doo, you might like this movie. If you didn't, you could still enjoy this movie if you have nothing else to do. And I suspect it might be a good kids movie, but I wouldn't know. It might have been better if Milo's Return had been a three-episode series on a cartoon channel, or on breakfast TV.\"]\n"
     ]
    }
   ],
   "source": [
    "print(\"first few labels\",labels[:5])\n",
    "print(\"first two reviews\",text_data[:2])\n"
   ]
  },
  {
   "cell_type": "markdown",
   "metadata": {},
   "source": [
    "Let's see if our labels are balanced"
   ]
  },
  {
   "cell_type": "code",
   "execution_count": 113,
   "metadata": {},
   "outputs": [
    {
     "name": "stdout",
     "output_type": "stream",
     "text": [
      "Mean of labels is: 0.499525\n"
     ]
    }
   ],
   "source": [
    "print(\"Mean of labels is:\", np.mean(labels))"
   ]
  },
  {
   "cell_type": "markdown",
   "metadata": {},
   "source": [
    "It's balanced enough, since if it was more leaning towards 1 it will have a score higher than 0.5"
   ]
  },
  {
   "cell_type": "markdown",
   "metadata": {},
   "source": [
    "For our model to work well, we'll have to pre-process the data. So we have to:\n",
    "1. remove punctuation\n",
    "2. regularize data to lower case\n",
    "3. remove HTML tags. Ex: `<br></br>`\n",
    "4. Remove stopwords like \"and\", \"the\", \"at\"\n",
    "5. Lemmatization of text by turning words like \"reading\", \"reads\" to same word \"read\"\n",
    "\n",
    "The punctuation and HTML tags will confuse the model and add embeddings for things that shouldn't be consequential to the sentiment. Regularizing data to lower case will also help us embed the text."
   ]
  },
  {
   "cell_type": "markdown",
   "metadata": {},
   "source": [
    "# Pre-processing"
   ]
  },
  {
   "cell_type": "code",
   "execution_count": 5,
   "metadata": {},
   "outputs": [
    {
     "name": "stdout",
     "output_type": "stream",
     "text": [
      "Punctuation is : !\"#$%&'()*+,-./:;<=>?@[\\]^_`{|}~\n",
      "Stop words are:  {'or', 'up', 'her', 'from', 'am', 'its', 'we', \"mightn't\", 'ma', 'has', 'with', 'before', 's', \"weren't\", 'at', \"you'll\", 'all', 'between', 'my', 'where', 'through', 'after', 'it', \"you'd\", 'no', 'didn', 'as', 'needn', \"haven't\", 'to', 'itself', 'those', 'mightn', 'other', 'should', 'were', 'there', 'an', 'have', 'a', 'isn', \"shan't\", 'had', 'these', 'until', 'ourselves', 'won', 'by', \"don't\", 'too', 'now', 'does', 'hasn', 'being', \"aren't\", 'can', \"didn't\", 'some', 'be', 'been', 'll', 'each', 'against', 'hadn', \"mustn't\", 'his', 'for', 'herself', 'very', 'me', 'having', 'just', 'haven', \"needn't\", 'than', 'weren', 'because', 'him', 'in', 't', 'shan', 'himself', 'under', 'are', 'and', \"isn't\", 'mustn', 'about', 'did', \"couldn't\", \"she's\", 'couldn', 'will', 'd', 'what', 'but', 'whom', 'theirs', 'while', 'ain', 'how', 'into', 'he', 'shouldn', 'wouldn', 'the', 'same', 'of', 'nor', \"hasn't\", 'ours', 'i', 'myself', \"wouldn't\", \"that'll\", 'both', 'then', 'them', 'any', 've', 'that', 'most', 'above', \"it's\", 'below', 'down', 'y', 'this', 'themselves', 'further', 'if', \"doesn't\", 'only', 'they', 'their', 'hers', \"wasn't\", \"you're\", \"hadn't\", \"won't\", 'why', 'wasn', 'during', 'you', 'own', 'do', \"should've\", 'over', 'who', 'yours', 'out', 'doing', 'on', 'few', 'off', 'yourself', 'which', 'doesn', \"you've\", 'again', 'your', 're', 'm', 'is', 'aren', 'o', 'once', 'not', 'yourselves', 'was', 'when', 'more', 'such', \"shouldn't\", 'she', 'here', 'so', 'don', 'our'}\n"
     ]
    }
   ],
   "source": [
    "from string import punctuation\n",
    "import re\n",
    "from nltk.corpus import stopwords\n",
    "from nltk.stem import WordNetLemmatizer\n",
    "from nltk.stem.snowball import SnowballStemmer\n",
    "\n",
    "stemmer=SnowballStemmer(\"english\")\n",
    "lemmatizer=WordNetLemmatizer()\n",
    "\n",
    "stop_words=set(stopwords.words('english'))\n",
    "print(\"Punctuation is :\" ,punctuation)\n",
    "print(\"Stop words are: \", stop_words)\n",
    "\n",
    "# to remove HTML tags, we'll use regex\n",
    "regex_cleaner=re.compile('<.*?>')\n",
    "def clean(text_to_clean:list):\n",
    "    clean_text=[]\n",
    "    for row_text in text_to_clean:\n",
    "        # lowercase\n",
    "        row_text=row_text.lower()\n",
    "        #HTML tags\n",
    "        row_text=re.sub(regex_cleaner,' ',row_text)\n",
    "        row_text=re.sub('https://.*','',row_text) \n",
    "        # removing punctuation\n",
    "        row_text=''.join([c for c in row_text if c not in punctuation])\n",
    "        # stop words \"the\", \"at\"...\n",
    "        row_text=' '.join([word for word in row_text.split() if word not in (stop_words)])\n",
    "        # lemmatizing the data and removing small words that can be individual letters\n",
    "        row_text=' '.join([lemmatizer.lemmatize(word) for word in row_text.split(\" \")])\n",
    "        clean_text.append(row_text)\n",
    "    return clean_text\n",
    "\n",
    "clean_text=clean(text_data)\n",
    "        \n"
   ]
  },
  {
   "cell_type": "markdown",
   "metadata": {},
   "source": [
    "Now let's compare between the two lists of texts."
   ]
  },
  {
   "cell_type": "code",
   "execution_count": 6,
   "metadata": {},
   "outputs": [
    {
     "name": "stdout",
     "output_type": "stream",
     "text": [
      "Row in raw text\n",
      " I grew up (b. 1965) watching and loving the Thunderbirds. All my mates at school watched. We played \"Thunderbirds\" before school, during lunch and after school. We all wanted to be Virgil or Scott. No one wanted to be Alan. Counting down from 5 became an art form. I took my children to see the movie hoping they would get a glimpse of what I loved as a child. How bitterly disappointing. The only high point was the snappy theme tune. Not that it could compare with the original score of the Thunderbirds. Thankfully early Saturday mornings one television channel still plays reruns of the series Gerry Anderson and his wife created. Jonatha Frakes should hand in his directors chair, his version was completely hopeless. A waste of film. Utter rubbish. A CGI remake may be acceptable but replacing marionettes with Homo sapiens subsp. sapiens was a huge error of judgment.\n",
      "Row in clean data\n",
      " grew b 1965 watching loving thunderbird mate school watched played thunderbird school lunch school wanted virgil scott one wanted alan counting 5 became art form took child see movie hoping would get glimpse loved child bitterly disappointing high point snappy theme tune could compare original score thunderbird thankfully early saturday morning one television channel still play rerun series gerry anderson wife created jonatha frakes hand director chair version completely hopeless waste film utter rubbish cgi remake may acceptable replacing marionette homo sapiens subsp sapiens huge error judgment\n"
     ]
    }
   ],
   "source": [
    "print(\"Row in raw text\\n\",text_data[0])\n",
    "print(\"Row in clean data\\n\",clean_text[0])"
   ]
  },
  {
   "cell_type": "markdown",
   "metadata": {},
   "source": [
    "The pre-processing stage went well (good enough). Now it's time to encode words."
   ]
  },
  {
   "cell_type": "markdown",
   "metadata": {},
   "source": [
    "## Encoding Words"
   ]
  },
  {
   "cell_type": "markdown",
   "metadata": {},
   "source": [
    "### Naive Approach"
   ]
  },
  {
   "cell_type": "markdown",
   "metadata": {},
   "source": [
    "To train our model, it will need for the words to be encoded to numbers. So we'll make our own embedding layer. "
   ]
  },
  {
   "cell_type": "code",
   "execution_count": 7,
   "metadata": {},
   "outputs": [
    {
     "name": "stdout",
     "output_type": "stream",
     "text": [
      "grew b 1965 watching loving thunderbird mate school watched played thunderbird school lunch school wanted virgil scott one wanted alan counting 5 became art form took child see movie hoping would get glimpse loved child bitterly disappointing high point snappy theme tune could compare original score thunderbird thankfully early saturday morning one television channel still play rerun series gerry anderson wife created jonatha frakes hand director chair version completely hopeless waste film utte\n"
     ]
    }
   ],
   "source": [
    "# will start by making a list of all the words\n",
    "all_text=' '.join(clean_text)\n",
    "print(all_text[:500])"
   ]
  },
  {
   "cell_type": "code",
   "execution_count": 8,
   "metadata": {},
   "outputs": [
    {
     "name": "stdout",
     "output_type": "stream",
     "text": [
      "['grew', 'b', '1965', 'watching', 'loving', 'thunderbird', 'mate', 'school', 'watched', 'played', 'thunderbird', 'school', 'lunch', 'school', 'wanted', 'virgil', 'scott', 'one', 'wanted', 'alan', 'counting', '5', 'became', 'art', 'form', 'took', 'child', 'see', 'movie', 'hoping', 'would', 'get', 'glimpse', 'loved', 'child', 'bitterly', 'disappointing', 'high', 'point', 'snappy', 'theme', 'tune', 'could', 'compare', 'original', 'score', 'thunderbird', 'thankfully', 'early', 'saturday', 'morning', 'one', 'television', 'channel', 'still', 'play', 'rerun', 'series', 'gerry', 'anderson', 'wife', 'created', 'jonatha', 'frakes', 'hand', 'director', 'chair', 'version', 'completely', 'hopeless', 'waste', 'film', 'utter', 'rubbish', 'cgi', 'remake', 'may', 'acceptable', 'replacing', 'marionette', 'homo', 'sapiens', 'subsp', 'sapiens', 'huge', 'error', 'judgment', 'put', 'movie', 'dvd', 'player', 'sat', 'coke', 'chip', 'expectation', 'hoping', 'movie', 'would', 'contain', 'strongpoints']\n"
     ]
    }
   ],
   "source": [
    "# now we'll split all into words\n",
    "words_list=all_text.split(' ')\n",
    "print(words_list[:100])"
   ]
  },
  {
   "cell_type": "code",
   "execution_count": 9,
   "metadata": {},
   "outputs": [
    {
     "name": "stdout",
     "output_type": "stream",
     "text": [
      "137585\n"
     ]
    }
   ],
   "source": [
    "from collections import Counter\n",
    "\n",
    "counts = Counter(words_list)\n",
    "vocab = sorted(counts, key=counts.get, reverse=True)\n",
    "vocab_to_int = {word: ii for ii, word in enumerate(vocab, 1)}\n",
    "print(len(vocab_to_int))"
   ]
  },
  {
   "cell_type": "code",
   "execution_count": 10,
   "metadata": {},
   "outputs": [],
   "source": [
    "# map text to ints\n",
    "text_ints=[]\n",
    "for row in clean_text:\n",
    "    text_ints.append([vocab_to_int[word] for word in row.split(' ')])"
   ]
  },
  {
   "cell_type": "code",
   "execution_count": 11,
   "metadata": {},
   "outputs": [
    {
     "name": "stdout",
     "output_type": "stream",
     "text": [
      "[1957, 777, 7631, 65, 1689, 6927, 2671, 267, 194, 162, 6927, 267, 5289, 267, 357, 14447, 932, 3, 357, 1661, 7315, 535, 751, 340, 608, 440, 168, 13, 1, 1250, 11, 10, 2228, 317, 168, 11065, 1196, 230, 86, 7150, 424, 1692, 28, 1312, 115, 430, 6927, 2233, 307, 2105, 1637, 3, 576, 903, 53, 70, 4006, 114, 11272, 2054, 219, 925, 60408, 23308, 272, 63, 2438, 201, 238, 4170, 331, 2, 1818, 1681, 1472, 783, 109, 3065, 8545, 24705, 14448, 26301, 60409, 26301, 513, 2532, 4888]\n"
     ]
    }
   ],
   "source": [
    "print(text_ints[0])"
   ]
  },
  {
   "cell_type": "markdown",
   "metadata": {},
   "source": [
    "### Using Word2Vec"
   ]
  },
  {
   "cell_type": "markdown",
   "metadata": {},
   "source": [
    "As you can see we ended up with 100,000+ activations. To work with so much parameters, will make it hard for our model to learn. That's why we'll encode our words using word2vec. "
   ]
  },
  {
   "cell_type": "code",
   "execution_count": 12,
   "metadata": {},
   "outputs": [],
   "source": [
    "from gensim.models import word2vec"
   ]
  },
  {
   "cell_type": "code",
   "execution_count": 13,
   "metadata": {},
   "outputs": [],
   "source": [
    "clean_words=[sentence.split(' ') for sentence in clean_text]"
   ]
  },
  {
   "cell_type": "code",
   "execution_count": 14,
   "metadata": {},
   "outputs": [],
   "source": [
    "embed_vector_size=300\n",
    "w2v_model=word2vec.Word2Vec(clean_words,min_count=20,vector_size=embed_vector_size,workers=4,window=5,sg=1)"
   ]
  },
  {
   "cell_type": "code",
   "execution_count": 15,
   "metadata": {},
   "outputs": [],
   "source": [
    "word_vectors=w2v_model.wv"
   ]
  },
  {
   "cell_type": "code",
   "execution_count": 16,
   "metadata": {},
   "outputs": [
    {
     "data": {
      "text/plain": [
       "[('adrenaline', 0.5256365537643433),\n",
       " ('swordplay', 0.523456871509552),\n",
       " ('actionpacked', 0.5192656517028809),\n",
       " ('actioner', 0.5019445419311523),\n",
       " ('fastpaced', 0.492980420589447)]"
      ]
     },
     "execution_count": 16,
     "metadata": {},
     "output_type": "execute_result"
    }
   ],
   "source": [
    "word_vectors.most_similar(\"action\",topn=5)"
   ]
  },
  {
   "cell_type": "markdown",
   "metadata": {},
   "source": [
    "Now we have a smaller vocabulary to work with"
   ]
  },
  {
   "cell_type": "markdown",
   "metadata": {},
   "source": [
    "## Truncating Reviews"
   ]
  },
  {
   "cell_type": "markdown",
   "metadata": {},
   "source": [
    "As you might expect, the reviews aren't all of the same length. Let's see"
   ]
  },
  {
   "cell_type": "code",
   "execution_count": 17,
   "metadata": {},
   "outputs": [],
   "source": [
    "def list_summary(text_ints):\n",
    "    text_lens=Counter([len(review) for review in text_ints])\n",
    "    print(\"Number of zero-length reviews:\", text_lens[0])\n",
    "    print(\"Maximum review length:\",max(text_lens))\n",
    "    print(\"Average review length: {:.1f}\".format(sum(text_lens)/len(text_lens)))\n",
    "\n"
   ]
  },
  {
   "cell_type": "code",
   "execution_count": 18,
   "metadata": {},
   "outputs": [
    {
     "name": "stdout",
     "output_type": "stream",
     "text": [
      "Number of zero-length reviews: 0\n",
      "Maximum review length: 1437\n",
      "Average review length: 307.0\n"
     ]
    }
   ],
   "source": [
    "list_summary(text_ints)"
   ]
  },
  {
   "cell_type": "markdown",
   "metadata": {},
   "source": [
    "# DeepLearning with TensorFlow"
   ]
  },
  {
   "cell_type": "markdown",
   "metadata": {},
   "source": [
    "### Padding Sequences"
   ]
  },
  {
   "cell_type": "code",
   "execution_count": 50,
   "metadata": {},
   "outputs": [],
   "source": [
    "np.bool=bool\n",
    "np.object=object\n",
    "np.int=int\n",
    "from tensorflow.keras.preprocessing.sequence import pad_sequences\n",
    "from tensorflow.keras.preprocessing.text import Tokenizer\n",
    "import tensorflow as tf"
   ]
  },
  {
   "cell_type": "code",
   "execution_count": 51,
   "metadata": {},
   "outputs": [
    {
     "name": "stdout",
     "output_type": "stream",
     "text": [
      "Tokenizer vocab length: 16000\n"
     ]
    }
   ],
   "source": [
    "vocab_length=16000\n",
    "\n",
    "tokenizer = Tokenizer(filters=\"\", lower=False, oov_token=\"<oov>\")\n",
    "tokenizer.fit_on_texts(clean_text)\n",
    "tokenizer.num_words = vocab_length\n",
    "print(\"Tokenizer vocab length:\", vocab_length)"
   ]
  },
  {
   "cell_type": "code",
   "execution_count": 52,
   "metadata": {},
   "outputs": [],
   "source": [
    "padded=pad_sequences(tokenizer.texts_to_sequences(clean_text),maxlen=280)"
   ]
  },
  {
   "cell_type": "markdown",
   "metadata": {},
   "source": [
    "### Embedding Matrix"
   ]
  },
  {
   "cell_type": "markdown",
   "metadata": {},
   "source": [
    "Now it's time to make our embedding matrix."
   ]
  },
  {
   "cell_type": "code",
   "execution_count": 53,
   "metadata": {},
   "outputs": [],
   "source": [
    "embedding_matrix=np.zeros((vocab_length,embed_vector_size))\n",
    "for word, token in tokenizer.word_index.items():\n",
    "    if word in w2v_model.wv:\n",
    "        embedding_matrix[token]=w2v_model.wv[word]"
   ]
  },
  {
   "cell_type": "markdown",
   "metadata": {},
   "source": [
    "### Train/Validation Split"
   ]
  },
  {
   "cell_type": "code",
   "execution_count": 58,
   "metadata": {},
   "outputs": [],
   "source": [
    "from sklearn.model_selection import train_test_split"
   ]
  },
  {
   "cell_type": "code",
   "execution_count": 84,
   "metadata": {},
   "outputs": [],
   "source": [
    "split_frac=0.8\n",
    "split_idx=int(split_frac*len(text_ints))\n",
    "labels=np.array(labels)\n",
    "\n",
    "train_x,  val_x, train_y,  val_y=train_test_split(padded,labels,train_size=0.8)\n",
    "train_y=np.asarray(train_y).reshape((-1,1))\n",
    "val_y=np.asarray(val_y).reshape((-1,1))\n"
   ]
  },
  {
   "cell_type": "code",
   "execution_count": 85,
   "metadata": {},
   "outputs": [
    {
     "name": "stdout",
     "output_type": "stream",
     "text": [
      "Train input shape: (32000, 280)\n",
      "Train labels shape: (32000, 1)\n"
     ]
    }
   ],
   "source": [
    "print(\"Train input shape:\", train_x.shape)\n",
    "print(\"Train labels shape:\", train_y.shape)"
   ]
  },
  {
   "cell_type": "markdown",
   "metadata": {},
   "source": [
    "### Model Architecture"
   ]
  },
  {
   "cell_type": "code",
   "execution_count": 94,
   "metadata": {},
   "outputs": [],
   "source": [
    "from tensorflow.keras import Sequential\n",
    "from tensorflow.keras.layers import LSTM, Embedding, Conv1D, Dense, Bidirectional, GlobalAveragePooling1D"
   ]
  },
  {
   "cell_type": "code",
   "execution_count": 95,
   "metadata": {},
   "outputs": [],
   "source": [
    "embedding_layer=Embedding(input_dim=vocab_length,\n",
    "                          output_dim=embed_vector_size,\n",
    "                          weights=[embedding_matrix],\n",
    "                          input_length=280,\n",
    "                          trainable=False)"
   ]
  },
  {
   "cell_type": "code",
   "execution_count": 97,
   "metadata": {},
   "outputs": [],
   "source": [
    "tf_model=Sequential([\n",
    "    embedding_layer,\n",
    "    Bidirectional(LSTM(100,use_bias=True,dropout=0.3,return_sequences=True)),\n",
    "    Bidirectional(LSTM(100,use_bias=True,dropout=0.3,return_sequences=True)),\n",
    "    Conv1D(100,5,activation=\"relu\"),\n",
    "    GlobalAveragePooling1D(),\n",
    "    Dense(16, activation=\"relu\"),\n",
    "    Dense(1)]\n",
    ")"
   ]
  },
  {
   "cell_type": "markdown",
   "metadata": {},
   "source": [
    "We'll add a callback to reduce learning rate whenever the loss stops decreasing."
   ]
  },
  {
   "cell_type": "code",
   "execution_count": 98,
   "metadata": {},
   "outputs": [],
   "source": [
    "from tensorflow.keras.callbacks import ReduceLROnPlateau, EarlyStopping\n",
    "\n",
    "callbacks=[ReduceLROnPlateau(monitor=\"val_loss\",patience=5,cooldown=0),\n",
    "           EarlyStopping(monitor=\"val_accuracy\", min_delta=1e-4 , patience=5)]"
   ]
  },
  {
   "cell_type": "markdown",
   "metadata": {},
   "source": [
    "Now let's introduce our criterion and optimizer.\n",
    "We'll use the Adam optimizer and the BCE criterion."
   ]
  },
  {
   "cell_type": "code",
   "execution_count": 99,
   "metadata": {},
   "outputs": [],
   "source": [
    "tf_model.compile(loss=tf.keras.losses.BinaryCrossentropy(from_logits=True),optimizer=\"Adam\",metrics=[\"accuracy\"])"
   ]
  },
  {
   "cell_type": "markdown",
   "metadata": {},
   "source": [
    "### Training our model"
   ]
  },
  {
   "cell_type": "markdown",
   "metadata": {},
   "source": [
    "Let's ensure that we're using the GPU"
   ]
  },
  {
   "cell_type": "code",
   "execution_count": 100,
   "metadata": {},
   "outputs": [
    {
     "data": {
      "text/plain": [
       "[PhysicalDevice(name='/physical_device:GPU:0', device_type='GPU')]"
      ]
     },
     "execution_count": 100,
     "metadata": {},
     "output_type": "execute_result"
    }
   ],
   "source": [
    "tf.config.list_physical_devices('GPU')"
   ]
  },
  {
   "cell_type": "markdown",
   "metadata": {},
   "source": [
    "Now let's train our model"
   ]
  },
  {
   "cell_type": "code",
   "execution_count": 102,
   "metadata": {},
   "outputs": [
    {
     "name": "stdout",
     "output_type": "stream",
     "text": [
      "Model: \"sequential_6\"\n",
      "_________________________________________________________________\n",
      "Layer (type)                 Output Shape              Param #   \n",
      "=================================================================\n",
      "embedding_3 (Embedding)      (None, 280, 300)          4800000   \n",
      "_________________________________________________________________\n",
      "bidirectional_12 (Bidirectio (None, 280, 200)          320800    \n",
      "_________________________________________________________________\n",
      "bidirectional_13 (Bidirectio (None, 280, 200)          240800    \n",
      "_________________________________________________________________\n",
      "conv1d_6 (Conv1D)            (None, 276, 100)          100100    \n",
      "_________________________________________________________________\n",
      "global_average_pooling1d_1 ( (None, 100)               0         \n",
      "_________________________________________________________________\n",
      "dense_12 (Dense)             (None, 16)                1616      \n",
      "_________________________________________________________________\n",
      "dense_13 (Dense)             (None, 1)                 17        \n",
      "=================================================================\n",
      "Total params: 5,463,333\n",
      "Trainable params: 663,333\n",
      "Non-trainable params: 4,800,000\n",
      "_________________________________________________________________\n"
     ]
    }
   ],
   "source": [
    "tf_model.summary()"
   ]
  },
  {
   "cell_type": "code",
   "execution_count": 103,
   "metadata": {},
   "outputs": [
    {
     "name": "stdout",
     "output_type": "stream",
     "text": [
      "Epoch 1/11\n",
      "57/57 [==============================] - 22s 283ms/step - loss: 0.4798 - accuracy: 0.7524 - val_loss: 0.3336 - val_accuracy: 0.8619\n",
      "Epoch 2/11\n",
      "57/57 [==============================] - 15s 267ms/step - loss: 0.3212 - accuracy: 0.8606 - val_loss: 0.3069 - val_accuracy: 0.8487\n",
      "Epoch 3/11\n",
      "57/57 [==============================] - 15s 268ms/step - loss: 0.2933 - accuracy: 0.8738 - val_loss: 0.2834 - val_accuracy: 0.8791\n",
      "Epoch 4/11\n",
      "57/57 [==============================] - 15s 269ms/step - loss: 0.2810 - accuracy: 0.8815 - val_loss: 0.2772 - val_accuracy: 0.8737\n",
      "Epoch 5/11\n",
      "57/57 [==============================] - 15s 268ms/step - loss: 0.2733 - accuracy: 0.8842 - val_loss: 0.2699 - val_accuracy: 0.8881\n",
      "Epoch 6/11\n",
      "57/57 [==============================] - 15s 271ms/step - loss: 0.2643 - accuracy: 0.8868 - val_loss: 0.2770 - val_accuracy: 0.8841\n",
      "Epoch 7/11\n",
      "57/57 [==============================] - 16s 273ms/step - loss: 0.2548 - accuracy: 0.8920 - val_loss: 0.2608 - val_accuracy: 0.8913\n",
      "Epoch 8/11\n",
      "57/57 [==============================] - 15s 269ms/step - loss: 0.2436 - accuracy: 0.8975 - val_loss: 0.2709 - val_accuracy: 0.8931\n",
      "Epoch 9/11\n",
      "57/57 [==============================] - 15s 268ms/step - loss: 0.2445 - accuracy: 0.8965 - val_loss: 0.2643 - val_accuracy: 0.8934\n",
      "Epoch 10/11\n",
      "57/57 [==============================] - 15s 269ms/step - loss: 0.2358 - accuracy: 0.9006 - val_loss: 0.2513 - val_accuracy: 0.8894\n",
      "Epoch 11/11\n",
      "57/57 [==============================] - 15s 269ms/step - loss: 0.2269 - accuracy: 0.9052 - val_loss: 0.2548 - val_accuracy: 0.8884\n"
     ]
    }
   ],
   "source": [
    "tf_history=tf_model.fit(\n",
    "    train_x,train_y,\n",
    "    batch_size=512,\n",
    "    epochs=11,\n",
    "    validation_split=0.1,\n",
    "    callbacks=callbacks,\n",
    "    verbose=1\n",
    ")"
   ]
  },
  {
   "cell_type": "markdown",
   "metadata": {},
   "source": [
    "### Plotting Model History"
   ]
  },
  {
   "cell_type": "code",
   "execution_count": 104,
   "metadata": {},
   "outputs": [
    {
     "data": {
      "image/png": "[encoded data removed]",
      "text/plain": [
       "<Figure size 640x480 with 1 Axes>"
      ]
     },
     "metadata": {},
     "output_type": "display_data"
    },
    {
     "data": {
      "image/png": "[encoded data removed]",
      "text/plain": [
       "<Figure size 640x480 with 1 Axes>"
      ]
     },
     "metadata": {},
     "output_type": "display_data"
    }
   ],
   "source": [
    "import matplotlib.pyplot as plt\n",
    "\n",
    "# accuracy\n",
    "plt.plot(tf_history.history[\"accuracy\"])\n",
    "plt.plot(tf_history.history[\"val_accuracy\"])\n",
    "plt.xlabel(\"epoch\")\n",
    "plt.ylabel(\"accuracy\")\n",
    "plt.title(\"Model Accuracy\")\n",
    "plt.legend([\"train\",\"validation\"])\n",
    "plt.savefig(\"Sentiment Analysis Figures/tf_accuracy.png\")\n",
    "plt.show()\n",
    "\n",
    "# loss\n",
    "plt.plot(tf_history.history[\"loss\"])\n",
    "plt.plot(tf_history.history[\"val_loss\"])\n",
    "plt.xlabel(\"epoch\")\n",
    "plt.ylabel(\"Loss\")\n",
    "plt.title(\"Model Loss\")\n",
    "plt.legend([\"train\",\"validation\"])\n",
    "plt.savefig(\"Sentiment Analysis Figures/tf_loss.png\")\n",
    "plt.show()\n"
   ]
  },
  {
   "cell_type": "markdown",
   "metadata": {},
   "source": [
    "### Save Model Weights"
   ]
  },
  {
   "cell_type": "code",
   "execution_count": 105,
   "metadata": {},
   "outputs": [],
   "source": [
    "tf_model.save(\"Sentiment-analysis weights/tf_model.keras\")"
   ]
  },
  {
   "cell_type": "markdown",
   "metadata": {},
   "source": [
    "# DeepLearning with Pytorch"
   ]
  },
  {
   "cell_type": "markdown",
   "metadata": {},
   "source": [
    "### Tokenization and Padding"
   ]
  },
  {
   "cell_type": "code",
   "execution_count": 19,
   "metadata": {},
   "outputs": [
    {
     "data": {
      "text/plain": [
       "15999"
      ]
     },
     "execution_count": 19,
     "metadata": {},
     "output_type": "execute_result"
    }
   ],
   "source": [
    "import itertools\n",
    "\n",
    "VOCAB_LENGTH=16000\n",
    "subset_vocab=dict(itertools.islice(vocab_to_int.items(),VOCAB_LENGTH-1))\n",
    "len(subset_vocab)"
   ]
  },
  {
   "cell_type": "code",
   "execution_count": 20,
   "metadata": {},
   "outputs": [],
   "source": [
    "def pad_sequences(reviews,vocab,max_sen_len):\n",
    "    features=np.zeros((len(reviews),max_sen_len),dtype=int)\n",
    "    for i, row in enumerate(reviews):\n",
    "        splitted_row=row.split(\" \")\n",
    "        if len(splitted_row)>=max_sen_len:\n",
    "            start_ind=max_sen_len\n",
    "        else:\n",
    "            start_ind=len(splitted_row)+1\n",
    "\n",
    "        for j,word in enumerate(splitted_row):\n",
    "            if j<max_sen_len:\n",
    "                if word in vocab:\n",
    "                    word_index=vocab[word]\n",
    "                else:\n",
    "                    # if word doesn't exist replace with zero\n",
    "                    word_index=0\n",
    "                features[i,-start_ind+j]=word_index\n",
    "    return features"
   ]
  },
  {
   "cell_type": "code",
   "execution_count": 21,
   "metadata": {},
   "outputs": [],
   "source": [
    "features_data=pad_sequences(clean_text,subset_vocab,280)"
   ]
  },
  {
   "cell_type": "markdown",
   "metadata": {},
   "source": [
    "here we'll tokenize and put value of vocab on all text and pad it using post padding."
   ]
  },
  {
   "cell_type": "markdown",
   "metadata": {},
   "source": [
    "When working with `DataLoader` which is designed to work with datasets that are iterable and can be indexed. `TensorDataset` provides a convenient way to wrap tensors into dataset that can be used by `DataLoader`. So we'll first need to put our data in a `TensorDataset`."
   ]
  },
  {
   "cell_type": "markdown",
   "metadata": {},
   "source": [
    "### Train/Validation Split"
   ]
  },
  {
   "cell_type": "code",
   "execution_count": 117,
   "metadata": {},
   "outputs": [],
   "source": [
    "from sklearn.model_selection import train_test_split\n",
    "labels=np.array(labels)\n",
    "\n",
    "train_x, val_x, train_y, val_y = train_test_split(\n",
    "    features_data, labels,train_size=0.8, random_state=42)\n",
    "\n",
    "train_x, val_x, train_y, val_y=np.array(train_x), np.array(val_x), np.array(train_y), np.array(val_y)"
   ]
  },
  {
   "cell_type": "code",
   "execution_count": 23,
   "metadata": {},
   "outputs": [],
   "source": [
    "import torch\n",
    "from torch.utils.data import TensorDataset, DataLoader\n",
    "BATCH_SIZE=50\n",
    "\n",
    "\n",
    "train_data=TensorDataset(torch.from_numpy(train_x),torch.from_numpy(train_y))\n",
    "val_data=TensorDataset(torch.from_numpy(val_x),torch.from_numpy(val_y))\n",
    "\n",
    "train_loader=DataLoader(train_data,batch_size=BATCH_SIZE,shuffle=True)\n",
    "val_loader=DataLoader(val_data,batch_size=BATCH_SIZE,shuffle=True)"
   ]
  },
  {
   "cell_type": "code",
   "execution_count": 24,
   "metadata": {},
   "outputs": [
    {
     "name": "stdout",
     "output_type": "stream",
     "text": [
      "Shape of sample is torch.Size([50, 280])\n"
     ]
    }
   ],
   "source": [
    "sample_x,sample_y=next(iter(train_loader))\n",
    "print(\"Shape of sample is\", sample_x.shape)"
   ]
  },
  {
   "cell_type": "markdown",
   "metadata": {},
   "source": [
    "You'll notice that PyTorch puts the batch size first then the sequence length."
   ]
  },
  {
   "cell_type": "code",
   "execution_count": 25,
   "metadata": {},
   "outputs": [],
   "source": [
    "embedding_matrix=np.zeros((VOCAB_LENGTH,300))\n",
    "for word, token in subset_vocab.items():\n",
    "    if word in w2v_model.wv:\n",
    "        embedding_matrix[token]=w2v_model.wv[word]"
   ]
  },
  {
   "cell_type": "markdown",
   "metadata": {},
   "source": [
    "### Model Definition "
   ]
  },
  {
   "cell_type": "markdown",
   "metadata": {},
   "source": [
    "We've embedded our data manually, nd we nearly have 190,00+ words in our vocabulary. Since we're not using one-hot encoding, we'll use `nn.Embedding` layer to optimize our lookup."
   ]
  },
  {
   "cell_type": "code",
   "execution_count": 26,
   "metadata": {},
   "outputs": [
    {
     "name": "stdout",
     "output_type": "stream",
     "text": [
      "Training on GPU!\n"
     ]
    }
   ],
   "source": [
    "#checking if we're training on GPU\n",
    "train_on_gpu=torch.cuda.is_available()\n",
    "if train_on_gpu:\n",
    "    print(\"Training on GPU!\")\n",
    "else:\n",
    "    print(\"Training on CPU!\")\n"
   ]
  },
  {
   "cell_type": "code",
   "execution_count": 98,
   "metadata": {},
   "outputs": [],
   "source": [
    "import torch.nn as nn\n",
    "import torch.nn.functional as F\n",
    "\n",
    "class SentimentLSTM(nn.Module):\n",
    "    def __init__(self, seq_length,output_size, n_layers, hidden_size,bias=True,batch_first=True ,drop_prob=0.3):\n",
    "        super(SentimentLSTM,self).__init__()\n",
    "        self.n_layers=n_layers\n",
    "        self.seq_length=seq_length\n",
    "        self.hidden_size=hidden_size\n",
    "        self.batch_first=batch_first\n",
    "        self.drop_prob=drop_prob\n",
    "        self.bias=bias\n",
    "        self.output_size=output_size\n",
    "\n",
    "        self.embed=nn.Embedding.from_pretrained(torch.tensor(embedding_matrix),padding_idx=0)\n",
    "        self.lstm=nn.LSTM(embed_vector_size,hidden_size,n_layers,dropout=drop_prob, batch_first=True,bidirectional=True)\n",
    "        self.conv=nn.Conv1d(seq_length,100,kernel_size=5)\n",
    "        self.pool=nn.AdaptiveAvgPool1d(100)\n",
    "        self.fc1=nn.Linear(100,16)\n",
    "        self.fc2=nn.Linear(16,1)\n",
    "\n",
    "    def forward(self,x, hidden):\n",
    "        x=self.embed(x)\n",
    "        lstm_out,hidden=self.lstm(x.to(torch.float32))\n",
    "        out=self.conv(lstm_out)\n",
    "        out=self.pool(out)\n",
    "        out=F.relu(self.fc1(out))\n",
    "        out=self.fc2(out)\n",
    "\n",
    "        out=out.view(BATCH_SIZE,-1)[:,-1]\n",
    "\n",
    "        return out, hidden\n",
    "    \n",
    "    def init_hidden(self, batch_size):\n",
    "        weight=next(self.parameters()).data\n",
    "        if train_on_gpu:\n",
    "            hidden=(weight.new(self.n_layers,batch_size,self.hidden_size).zero_().cuda(),\n",
    "                    weight.new(self.n_layers,batch_size,self.hidden_size).zero_().cuda())\n",
    "        else:\n",
    "            hidden=(weight.new(self.n_layers,batch_size,self.hidden_size).zero_(),\n",
    "                    weight.new(self.n_layers,batch_size,self.hidden_size).zero_())\n",
    "        return hidden\n",
    "\n",
    "\n",
    "    \n",
    "\n"
   ]
  },
  {
   "cell_type": "code",
   "execution_count": 99,
   "metadata": {},
   "outputs": [],
   "source": [
    "seq_length=280\n",
    "output_size=1\n",
    "n_layers=2\n",
    "hidden_size=100\n",
    "\n",
    "rnn_model=SentimentLSTM(seq_length,output_size,n_layers,hidden_size,bias=True,batch_first=True)"
   ]
  },
  {
   "cell_type": "code",
   "execution_count": 100,
   "metadata": {},
   "outputs": [
    {
     "name": "stdout",
     "output_type": "stream",
     "text": [
      "SentimentLSTM(\n",
      "  (embed): Embedding(16000, 300, padding_idx=0)\n",
      "  (lstm): LSTM(300, 100, num_layers=2, batch_first=True, dropout=0.3, bidirectional=True)\n",
      "  (conv): Conv1d(280, 100, kernel_size=(5,), stride=(1,))\n",
      "  (pool): AdaptiveAvgPool1d(output_size=100)\n",
      "  (fc1): Linear(in_features=100, out_features=16, bias=True)\n",
      "  (fc2): Linear(in_features=16, out_features=1, bias=True)\n",
      ")\n"
     ]
    }
   ],
   "source": [
    "print(rnn_model)"
   ]
  },
  {
   "cell_type": "markdown",
   "metadata": {},
   "source": [
    "## Training (DL with PyTorch)"
   ]
  },
  {
   "cell_type": "markdown",
   "metadata": {},
   "source": [
    "### Optimizer and Loss"
   ]
  },
  {
   "cell_type": "code",
   "execution_count": 101,
   "metadata": {},
   "outputs": [],
   "source": [
    "criterion=nn.BCEWithLogitsLoss()\n",
    "optimizer=torch.optim.Adam(rnn_model.parameters(),lr=0.001)"
   ]
  },
  {
   "cell_type": "code",
   "execution_count": 102,
   "metadata": {},
   "outputs": [],
   "source": [
    "scheduler=torch.optim.lr_scheduler.OneCycleLR(optimizer,max_lr=0.01,steps_per_epoch=len(train_loader),anneal_strategy=\"cos\",epochs=20)"
   ]
  },
  {
   "cell_type": "markdown",
   "metadata": {},
   "source": [
    "### Training Loop"
   ]
  },
  {
   "cell_type": "code",
   "execution_count": 103,
   "metadata": {},
   "outputs": [],
   "source": [
    "import sklearn.metrics as metrics"
   ]
  },
  {
   "cell_type": "code",
   "execution_count": 104,
   "metadata": {},
   "outputs": [
    {
     "name": "stdout",
     "output_type": "stream",
     "text": [
      "For epoch 1/12 Step 639 Training Loss is: 0.36 Validation Loss is: 0.284 Training Accuracy is: 82.863 Validation Accuracy is: 88.575\n",
      "For epoch 2/12 Step 639 Training Loss is: 0.279 Validation Loss is: 0.26 Training Accuracy is: 88.419 Validation Accuracy is: 89.587\n",
      "For epoch 3/12 Step 639 Training Loss is: 0.253 Validation Loss is: 0.24 Training Accuracy is: 89.641 Validation Accuracy is: 89.987\n",
      "For epoch 4/12 Step 639 Training Loss is: 0.233 Validation Loss is: 0.237 Training Accuracy is: 90.788 Validation Accuracy is: 90.2\n",
      "For epoch 5/12 Step 639 Training Loss is: 0.221 Validation Loss is: 0.251 Training Accuracy is: 91.281 Validation Accuracy is: 90.425\n",
      "For epoch 6/12 Step 639 Training Loss is: 0.191 Validation Loss is: 0.241 Training Accuracy is: 92.616 Validation Accuracy is: 90.687\n",
      "For epoch 7/12 Step 639 Training Loss is: 0.168 Validation Loss is: 0.251 Training Accuracy is: 93.625 Validation Accuracy is: 90.525\n",
      "For epoch 8/12 Step 639 Training Loss is: 0.143 Validation Loss is: 0.265 Training Accuracy is: 94.566 Validation Accuracy is: 90.012\n",
      "For epoch 9/12 Step 639 Training Loss is: 0.119 Validation Loss is: 0.33 Training Accuracy is: 95.597 Validation Accuracy is: 88.712\n",
      "For epoch 10/12 Step 639 Training Loss is: 0.113 Validation Loss is: 0.299 Training Accuracy is: 95.737 Validation Accuracy is: 89.875\n",
      "For epoch 11/12 Step 639 Training Loss is: 0.078 Validation Loss is: 0.38 Training Accuracy is: 97.187 Validation Accuracy is: 89.987\n",
      "For epoch 12/12 Step 639 Training Loss is: 0.058 Validation Loss is: 0.381 Training Accuracy is: 97.956 Validation Accuracy is: 90.225\n"
     ]
    }
   ],
   "source": [
    "num_epochs=12\n",
    "clip=5\n",
    "train_losses, val_losses=[],[]\n",
    "train_accs, val_accs=[],[]\n",
    "\n",
    "print_every=100\n",
    "\n",
    "if train_on_gpu:\n",
    "    rnn_model.cuda()\n",
    "\n",
    "for epoch in range(num_epochs):\n",
    "    h=rnn_model.init_hidden(BATCH_SIZE)\n",
    "    rnn_model.train()\n",
    "    train_acc=0\n",
    "    train_loss=0\n",
    "    for step,(inputs,batch_labels) in enumerate(train_loader):\n",
    "        if train_on_gpu:\n",
    "            inputs, batch_labels=inputs.cuda(),batch_labels.cuda()\n",
    "        # 0) zero gradients\n",
    "        rnn_model.zero_grad()\n",
    "        # 0.1) Creating new variables for hidden state\n",
    "        h= tuple([each.data for each in h])\n",
    "        #1) forward pass\n",
    "        output, h=rnn_model(inputs,h)\n",
    "        #2) backward pass\n",
    "        loss=criterion(output.squeeze(),batch_labels.float())\n",
    "        loss.backward()\n",
    "        train_loss+=loss.item()\n",
    "        # 2.1) gradient clipping\n",
    "        #nn.utils.clip_grad_norm_(rnn_model.parameters(),clip)\n",
    "        #3) optimizer step\n",
    "        optimizer.step()\n",
    "        scheduler.step()\n",
    "        # 4) measure accuracy\n",
    "        probs=F.sigmoid(output)\n",
    "        batch_accuracy=metrics.accuracy_score(batch_labels.cpu(),probs.cpu()>0.5)\n",
    "\n",
    "        train_acc+=(batch_accuracy/len(train_loader))\n",
    "    \n",
    "    \n",
    "        \n",
    "        \n",
    "\n",
    "    # 4) validation loop\n",
    "\n",
    "    else:\n",
    "        train_loss=train_loss/len(train_loader)\n",
    "        train_losses.append(train_loss)\n",
    "        with torch.no_grad():\n",
    "            train_accs.append(train_acc)\n",
    "            rnn_model.eval()\n",
    "            val_acc=0\n",
    "            val_loss=0\n",
    "            for inputs, batch_labels in val_loader:\n",
    "                if train_on_gpu:\n",
    "                    inputs, batch_labels=inputs.cuda(), batch_labels.cuda()\n",
    "                h=rnn_model.init_hidden(BATCH_SIZE)\n",
    "                h=tuple([each.data for each in h])\n",
    "                out, h= rnn_model(inputs,h)\n",
    "                val_loss+=criterion(out.squeeze(), batch_labels.float())\n",
    "                \n",
    "                # accuracy\n",
    "                probs_val=F.sigmoid(out)\n",
    "                batch_accuracy=metrics.accuracy_score(batch_labels.cpu(),probs_val.cpu()>0.5)\n",
    "                val_acc+=(batch_accuracy/len(val_loader))\n",
    "\n",
    "            val_loss/=len(val_loader)\n",
    "            val_losses.append(val_loss.item())\n",
    "            val_accs.append(val_acc)\n",
    "\n",
    "            print(f\"For epoch {epoch+1}/{num_epochs} \"\\\n",
    "            f\"Step {step} \"\n",
    "                    f\"Training Loss is: {round(train_loss,3)} \"\\\n",
    "                    f\"Validation Loss is: {round(val_loss.item(),3)} \"\n",
    "                    f\"Training Accuracy is: {round(train_acc*100,3)} \"\\\n",
    "                    f\"Validation Accuracy is: {round(val_acc*100,3)}\")\n",
    "            \n",
    "            rnn_model.train()\n",
    "\n",
    "\n",
    "    \n",
    "\n"
   ]
  },
  {
   "cell_type": "markdown",
   "metadata": {},
   "source": [
    "### Plotting Model Complexity"
   ]
  },
  {
   "cell_type": "code",
   "execution_count": 105,
   "metadata": {},
   "outputs": [],
   "source": [
    "import matplotlib.pyplot as plt"
   ]
  },
  {
   "cell_type": "code",
   "execution_count": 106,
   "metadata": {},
   "outputs": [
    {
     "data": {
      "image/png": "[encoded data removed]",
      "text/plain": [
       "<Figure size 640x480 with 1 Axes>"
      ]
     },
     "metadata": {},
     "output_type": "display_data"
    },
    {
     "data": {
      "image/png": "[encoded data removed]",
      "text/plain": [
       "<Figure size 640x480 with 1 Axes>"
      ]
     },
     "metadata": {},
     "output_type": "display_data"
    }
   ],
   "source": [
    "# accuracy\n",
    "plt.plot(train_accs)\n",
    "plt.plot(val_accs)\n",
    "plt.title(\"Accuracy Graph\")\n",
    "plt.xlabel(\"Epoch\")\n",
    "plt.ylabel(\"Accuracy\")\n",
    "plt.legend([\"Train\",\"Valid\"])\n",
    "plt.savefig(\"Sentiment Analysis Figures/torch_accuracy.jpeg\")\n",
    "plt.show()\n",
    "\n",
    "# accuracy\n",
    "plt.plot(train_losses)\n",
    "plt.plot(val_losses)\n",
    "plt.title(\"Loss Graph\")\n",
    "plt.xlabel(\"Epoch\")\n",
    "plt.ylabel(\"Loss\")\n",
    "plt.legend([\"Train\",\"Valid\"])\n",
    "plt.savefig(\"Sentiment Analysis Figures/torch_loss.jpeg\")\n",
    "plt.show()"
   ]
  },
  {
   "cell_type": "markdown",
   "metadata": {},
   "source": [
    "By looking at graph we should've stopped at the 5th epoch"
   ]
  },
  {
   "cell_type": "markdown",
   "metadata": {},
   "source": [
    "### Saving Model"
   ]
  },
  {
   "cell_type": "code",
   "execution_count": 107,
   "metadata": {},
   "outputs": [],
   "source": [
    "torch.save(rnn_model.state_dict(),\"Sentiment-analysis weights/torch_weights.pth\")"
   ]
  },
  {
   "cell_type": "markdown",
   "metadata": {},
   "source": [
    "# Classical Approach "
   ]
  },
  {
   "cell_type": "markdown",
   "metadata": {},
   "source": [
    "### Train/Validation Split"
   ]
  },
  {
   "cell_type": "code",
   "execution_count": 153,
   "metadata": {},
   "outputs": [],
   "source": [
    "train_x,val_x,train_y,val_y=train_test_split(features_data,labels,train_size=0.8)"
   ]
  },
  {
   "cell_type": "markdown",
   "metadata": {},
   "source": [
    "### Model Definition"
   ]
  },
  {
   "cell_type": "code",
   "execution_count": 154,
   "metadata": {},
   "outputs": [],
   "source": [
    "from sklearn import svm"
   ]
  },
  {
   "cell_type": "code",
   "execution_count": 155,
   "metadata": {},
   "outputs": [
    {
     "data": {
      "text/html": [
       "<style>#sk-container-id-5 {\n",
       "  /* Definition of color scheme common for light and dark mode */\n",
       "  --sklearn-color-text: black;\n",
       "  --sklearn-color-line: gray;\n",
       "  /* Definition of color scheme for unfitted estimators */\n",
       "  --sklearn-color-unfitted-level-0: #fff5e6;\n",
       "  --sklearn-color-unfitted-level-1: #f6e4d2;\n",
       "  --sklearn-color-unfitted-level-2: #ffe0b3;\n",
       "  --sklearn-color-unfitted-level-3: chocolate;\n",
       "  /* Definition of color scheme for fitted estimators */\n",
       "  --sklearn-color-fitted-level-0: #f0f8ff;\n",
       "  --sklearn-color-fitted-level-1: #d4ebff;\n",
       "  --sklearn-color-fitted-level-2: #b3dbfd;\n",
       "  --sklearn-color-fitted-level-3: cornflowerblue;\n",
       "\n",
       "  /* Specific color for light theme */\n",
       "  --sklearn-color-text-on-default-background: var(--sg-text-color, var(--theme-code-foreground, var(--jp-content-font-color1, black)));\n",
       "  --sklearn-color-background: var(--sg-background-color, var(--theme-background, var(--jp-layout-color0, white)));\n",
       "  --sklearn-color-border-box: var(--sg-text-color, var(--theme-code-foreground, var(--jp-content-font-color1, black)));\n",
       "  --sklearn-color-icon: #696969;\n",
       "\n",
       "  @media (prefers-color-scheme: dark) {\n",
       "    /* Redefinition of color scheme for dark theme */\n",
       "    --sklearn-color-text-on-default-background: var(--sg-text-color, var(--theme-code-foreground, var(--jp-content-font-color1, white)));\n",
       "    --sklearn-color-background: var(--sg-background-color, var(--theme-background, var(--jp-layout-color0, #111)));\n",
       "    --sklearn-color-border-box: var(--sg-text-color, var(--theme-code-foreground, var(--jp-content-font-color1, white)));\n",
       "    --sklearn-color-icon: #878787;\n",
       "  }\n",
       "}\n",
       "\n",
       "#sk-container-id-5 {\n",
       "  color: var(--sklearn-color-text);\n",
       "}\n",
       "\n",
       "#sk-container-id-5 pre {\n",
       "  padding: 0;\n",
       "}\n",
       "\n",
       "#sk-container-id-5 input.sk-hidden--visually {\n",
       "  border: 0;\n",
       "  clip: rect(1px 1px 1px 1px);\n",
       "  clip: rect(1px, 1px, 1px, 1px);\n",
       "  height: 1px;\n",
       "  margin: -1px;\n",
       "  overflow: hidden;\n",
       "  padding: 0;\n",
       "  position: absolute;\n",
       "  width: 1px;\n",
       "}\n",
       "\n",
       "#sk-container-id-5 div.sk-dashed-wrapped {\n",
       "  border: 1px dashed var(--sklearn-color-line);\n",
       "  margin: 0 0.4em 0.5em 0.4em;\n",
       "  box-sizing: border-box;\n",
       "  padding-bottom: 0.4em;\n",
       "  background-color: var(--sklearn-color-background);\n",
       "}\n",
       "\n",
       "#sk-container-id-5 div.sk-container {\n",
       "  /* jupyter's `normalize.less` sets `[hidden] { display: none; }`\n",
       "     but bootstrap.min.css set `[hidden] { display: none !important; }`\n",
       "     so we also need the `!important` here to be able to override the\n",
       "     default hidden behavior on the sphinx rendered scikit-learn.org.\n",
       "     See: https://github.com/scikit-learn/scikit-learn/issues/21755 */\n",
       "  display: inline-block !important;\n",
       "  position: relative;\n",
       "}\n",
       "\n",
       "#sk-container-id-5 div.sk-text-repr-fallback {\n",
       "  display: none;\n",
       "}\n",
       "\n",
       "div.sk-parallel-item,\n",
       "div.sk-serial,\n",
       "div.sk-item {\n",
       "  /* draw centered vertical line to link estimators */\n",
       "  background-image: linear-gradient(var(--sklearn-color-text-on-default-background), var(--sklearn-color-text-on-default-background));\n",
       "  background-size: 2px 100%;\n",
       "  background-repeat: no-repeat;\n",
       "  background-position: center center;\n",
       "}\n",
       "\n",
       "/* Parallel-specific style estimator block */\n",
       "\n",
       "#sk-container-id-5 div.sk-parallel-item::after {\n",
       "  content: \"\";\n",
       "  width: 100%;\n",
       "  border-bottom: 2px solid var(--sklearn-color-text-on-default-background);\n",
       "  flex-grow: 1;\n",
       "}\n",
       "\n",
       "#sk-container-id-5 div.sk-parallel {\n",
       "  display: flex;\n",
       "  align-items: stretch;\n",
       "  justify-content: center;\n",
       "  background-color: var(--sklearn-color-background);\n",
       "  position: relative;\n",
       "}\n",
       "\n",
       "#sk-container-id-5 div.sk-parallel-item {\n",
       "  display: flex;\n",
       "  flex-direction: column;\n",
       "}\n",
       "\n",
       "#sk-container-id-5 div.sk-parallel-item:first-child::after {\n",
       "  align-self: flex-end;\n",
       "  width: 50%;\n",
       "}\n",
       "\n",
       "#sk-container-id-5 div.sk-parallel-item:last-child::after {\n",
       "  align-self: flex-start;\n",
       "  width: 50%;\n",
       "}\n",
       "\n",
       "#sk-container-id-5 div.sk-parallel-item:only-child::after {\n",
       "  width: 0;\n",
       "}\n",
       "\n",
       "/* Serial-specific style estimator block */\n",
       "\n",
       "#sk-container-id-5 div.sk-serial {\n",
       "  display: flex;\n",
       "  flex-direction: column;\n",
       "  align-items: center;\n",
       "  background-color: var(--sklearn-color-background);\n",
       "  padding-right: 1em;\n",
       "  padding-left: 1em;\n",
       "}\n",
       "\n",
       "\n",
       "/* Toggleable style: style used for estimator/Pipeline/ColumnTransformer box that is\n",
       "clickable and can be expanded/collapsed.\n",
       "- Pipeline and ColumnTransformer use this feature and define the default style\n",
       "- Estimators will overwrite some part of the style using the `sk-estimator` class\n",
       "*/\n",
       "\n",
       "/* Pipeline and ColumnTransformer style (default) */\n",
       "\n",
       "#sk-container-id-5 div.sk-toggleable {\n",
       "  /* Default theme specific background. It is overwritten whether we have a\n",
       "  specific estimator or a Pipeline/ColumnTransformer */\n",
       "  background-color: var(--sklearn-color-background);\n",
       "}\n",
       "\n",
       "/* Toggleable label */\n",
       "#sk-container-id-5 label.sk-toggleable__label {\n",
       "  cursor: pointer;\n",
       "  display: block;\n",
       "  width: 100%;\n",
       "  margin-bottom: 0;\n",
       "  padding: 0.5em;\n",
       "  box-sizing: border-box;\n",
       "  text-align: center;\n",
       "}\n",
       "\n",
       "#sk-container-id-5 label.sk-toggleable__label-arrow:before {\n",
       "  /* Arrow on the left of the label */\n",
       "  content: \"▸\";\n",
       "  float: left;\n",
       "  margin-right: 0.25em;\n",
       "  color: var(--sklearn-color-icon);\n",
       "}\n",
       "\n",
       "#sk-container-id-5 label.sk-toggleable__label-arrow:hover:before {\n",
       "  color: var(--sklearn-color-text);\n",
       "}\n",
       "\n",
       "/* Toggleable content - dropdown */\n",
       "\n",
       "#sk-container-id-5 div.sk-toggleable__content {\n",
       "  max-height: 0;\n",
       "  max-width: 0;\n",
       "  overflow: hidden;\n",
       "  text-align: left;\n",
       "  /* unfitted */\n",
       "  background-color: var(--sklearn-color-unfitted-level-0);\n",
       "}\n",
       "\n",
       "#sk-container-id-5 div.sk-toggleable__content.fitted {\n",
       "  /* fitted */\n",
       "  background-color: var(--sklearn-color-fitted-level-0);\n",
       "}\n",
       "\n",
       "#sk-container-id-5 div.sk-toggleable__content pre {\n",
       "  margin: 0.2em;\n",
       "  border-radius: 0.25em;\n",
       "  color: var(--sklearn-color-text);\n",
       "  /* unfitted */\n",
       "  background-color: var(--sklearn-color-unfitted-level-0);\n",
       "}\n",
       "\n",
       "#sk-container-id-5 div.sk-toggleable__content.fitted pre {\n",
       "  /* unfitted */\n",
       "  background-color: var(--sklearn-color-fitted-level-0);\n",
       "}\n",
       "\n",
       "#sk-container-id-5 input.sk-toggleable__control:checked~div.sk-toggleable__content {\n",
       "  /* Expand drop-down */\n",
       "  max-height: 200px;\n",
       "  max-width: 100%;\n",
       "  overflow: auto;\n",
       "}\n",
       "\n",
       "#sk-container-id-5 input.sk-toggleable__control:checked~label.sk-toggleable__label-arrow:before {\n",
       "  content: \"▾\";\n",
       "}\n",
       "\n",
       "/* Pipeline/ColumnTransformer-specific style */\n",
       "\n",
       "#sk-container-id-5 div.sk-label input.sk-toggleable__control:checked~label.sk-toggleable__label {\n",
       "  color: var(--sklearn-color-text);\n",
       "  background-color: var(--sklearn-color-unfitted-level-2);\n",
       "}\n",
       "\n",
       "#sk-container-id-5 div.sk-label.fitted input.sk-toggleable__control:checked~label.sk-toggleable__label {\n",
       "  background-color: var(--sklearn-color-fitted-level-2);\n",
       "}\n",
       "\n",
       "/* Estimator-specific style */\n",
       "\n",
       "/* Colorize estimator box */\n",
       "#sk-container-id-5 div.sk-estimator input.sk-toggleable__control:checked~label.sk-toggleable__label {\n",
       "  /* unfitted */\n",
       "  background-color: var(--sklearn-color-unfitted-level-2);\n",
       "}\n",
       "\n",
       "#sk-container-id-5 div.sk-estimator.fitted input.sk-toggleable__control:checked~label.sk-toggleable__label {\n",
       "  /* fitted */\n",
       "  background-color: var(--sklearn-color-fitted-level-2);\n",
       "}\n",
       "\n",
       "#sk-container-id-5 div.sk-label label.sk-toggleable__label,\n",
       "#sk-container-id-5 div.sk-label label {\n",
       "  /* The background is the default theme color */\n",
       "  color: var(--sklearn-color-text-on-default-background);\n",
       "}\n",
       "\n",
       "/* On hover, darken the color of the background */\n",
       "#sk-container-id-5 div.sk-label:hover label.sk-toggleable__label {\n",
       "  color: var(--sklearn-color-text);\n",
       "  background-color: var(--sklearn-color-unfitted-level-2);\n",
       "}\n",
       "\n",
       "/* Label box, darken color on hover, fitted */\n",
       "#sk-container-id-5 div.sk-label.fitted:hover label.sk-toggleable__label.fitted {\n",
       "  color: var(--sklearn-color-text);\n",
       "  background-color: var(--sklearn-color-fitted-level-2);\n",
       "}\n",
       "\n",
       "/* Estimator label */\n",
       "\n",
       "#sk-container-id-5 div.sk-label label {\n",
       "  font-family: monospace;\n",
       "  font-weight: bold;\n",
       "  display: inline-block;\n",
       "  line-height: 1.2em;\n",
       "}\n",
       "\n",
       "#sk-container-id-5 div.sk-label-container {\n",
       "  text-align: center;\n",
       "}\n",
       "\n",
       "/* Estimator-specific */\n",
       "#sk-container-id-5 div.sk-estimator {\n",
       "  font-family: monospace;\n",
       "  border: 1px dotted var(--sklearn-color-border-box);\n",
       "  border-radius: 0.25em;\n",
       "  box-sizing: border-box;\n",
       "  margin-bottom: 0.5em;\n",
       "  /* unfitted */\n",
       "  background-color: var(--sklearn-color-unfitted-level-0);\n",
       "}\n",
       "\n",
       "#sk-container-id-5 div.sk-estimator.fitted {\n",
       "  /* fitted */\n",
       "  background-color: var(--sklearn-color-fitted-level-0);\n",
       "}\n",
       "\n",
       "/* on hover */\n",
       "#sk-container-id-5 div.sk-estimator:hover {\n",
       "  /* unfitted */\n",
       "  background-color: var(--sklearn-color-unfitted-level-2);\n",
       "}\n",
       "\n",
       "#sk-container-id-5 div.sk-estimator.fitted:hover {\n",
       "  /* fitted */\n",
       "  background-color: var(--sklearn-color-fitted-level-2);\n",
       "}\n",
       "\n",
       "/* Specification for estimator info (e.g. \"i\" and \"?\") */\n",
       "\n",
       "/* Common style for \"i\" and \"?\" */\n",
       "\n",
       ".sk-estimator-doc-link,\n",
       "a:link.sk-estimator-doc-link,\n",
       "a:visited.sk-estimator-doc-link {\n",
       "  float: right;\n",
       "  font-size: smaller;\n",
       "  line-height: 1em;\n",
       "  font-family: monospace;\n",
       "  background-color: var(--sklearn-color-background);\n",
       "  border-radius: 1em;\n",
       "  height: 1em;\n",
       "  width: 1em;\n",
       "  text-decoration: none !important;\n",
       "  margin-left: 1ex;\n",
       "  /* unfitted */\n",
       "  border: var(--sklearn-color-unfitted-level-1) 1pt solid;\n",
       "  color: var(--sklearn-color-unfitted-level-1);\n",
       "}\n",
       "\n",
       ".sk-estimator-doc-link.fitted,\n",
       "a:link.sk-estimator-doc-link.fitted,\n",
       "a:visited.sk-estimator-doc-link.fitted {\n",
       "  /* fitted */\n",
       "  border: var(--sklearn-color-fitted-level-1) 1pt solid;\n",
       "  color: var(--sklearn-color-fitted-level-1);\n",
       "}\n",
       "\n",
       "/* On hover */\n",
       "div.sk-estimator:hover .sk-estimator-doc-link:hover,\n",
       ".sk-estimator-doc-link:hover,\n",
       "div.sk-label-container:hover .sk-estimator-doc-link:hover,\n",
       ".sk-estimator-doc-link:hover {\n",
       "  /* unfitted */\n",
       "  background-color: var(--sklearn-color-unfitted-level-3);\n",
       "  color: var(--sklearn-color-background);\n",
       "  text-decoration: none;\n",
       "}\n",
       "\n",
       "div.sk-estimator.fitted:hover .sk-estimator-doc-link.fitted:hover,\n",
       ".sk-estimator-doc-link.fitted:hover,\n",
       "div.sk-label-container:hover .sk-estimator-doc-link.fitted:hover,\n",
       ".sk-estimator-doc-link.fitted:hover {\n",
       "  /* fitted */\n",
       "  background-color: var(--sklearn-color-fitted-level-3);\n",
       "  color: var(--sklearn-color-background);\n",
       "  text-decoration: none;\n",
       "}\n",
       "\n",
       "/* Span, style for the box shown on hovering the info icon */\n",
       ".sk-estimator-doc-link span {\n",
       "  display: none;\n",
       "  z-index: 9999;\n",
       "  position: relative;\n",
       "  font-weight: normal;\n",
       "  right: .2ex;\n",
       "  padding: .5ex;\n",
       "  margin: .5ex;\n",
       "  width: min-content;\n",
       "  min-width: 20ex;\n",
       "  max-width: 50ex;\n",
       "  color: var(--sklearn-color-text);\n",
       "  box-shadow: 2pt 2pt 4pt #999;\n",
       "  /* unfitted */\n",
       "  background: var(--sklearn-color-unfitted-level-0);\n",
       "  border: .5pt solid var(--sklearn-color-unfitted-level-3);\n",
       "}\n",
       "\n",
       ".sk-estimator-doc-link.fitted span {\n",
       "  /* fitted */\n",
       "  background: var(--sklearn-color-fitted-level-0);\n",
       "  border: var(--sklearn-color-fitted-level-3);\n",
       "}\n",
       "\n",
       ".sk-estimator-doc-link:hover span {\n",
       "  display: block;\n",
       "}\n",
       "\n",
       "/* \"?\"-specific style due to the `<a>` HTML tag */\n",
       "\n",
       "#sk-container-id-5 a.estimator_doc_link {\n",
       "  float: right;\n",
       "  font-size: 1rem;\n",
       "  line-height: 1em;\n",
       "  font-family: monospace;\n",
       "  background-color: var(--sklearn-color-background);\n",
       "  border-radius: 1rem;\n",
       "  height: 1rem;\n",
       "  width: 1rem;\n",
       "  text-decoration: none;\n",
       "  /* unfitted */\n",
       "  color: var(--sklearn-color-unfitted-level-1);\n",
       "  border: var(--sklearn-color-unfitted-level-1) 1pt solid;\n",
       "}\n",
       "\n",
       "#sk-container-id-5 a.estimator_doc_link.fitted {\n",
       "  /* fitted */\n",
       "  border: var(--sklearn-color-fitted-level-1) 1pt solid;\n",
       "  color: var(--sklearn-color-fitted-level-1);\n",
       "}\n",
       "\n",
       "/* On hover */\n",
       "#sk-container-id-5 a.estimator_doc_link:hover {\n",
       "  /* unfitted */\n",
       "  background-color: var(--sklearn-color-unfitted-level-3);\n",
       "  color: var(--sklearn-color-background);\n",
       "  text-decoration: none;\n",
       "}\n",
       "\n",
       "#sk-container-id-5 a.estimator_doc_link.fitted:hover {\n",
       "  /* fitted */\n",
       "  background-color: var(--sklearn-color-fitted-level-3);\n",
       "}\n",
       "</style><div id=\"sk-container-id-5\" class=\"sk-top-container\"><div class=\"sk-text-repr-fallback\"><pre>LinearSVC()</pre><b>In a Jupyter environment, please rerun this cell to show the HTML representation or trust the notebook. <br />On GitHub, the HTML representation is unable to render, please try loading this page with nbviewer.org.</b></div><div class=\"sk-container\" hidden><div class=\"sk-item\"><div class=\"sk-estimator fitted sk-toggleable\"><input class=\"sk-toggleable__control sk-hidden--visually\" id=\"sk-estimator-id-5\" type=\"checkbox\" checked><label for=\"sk-estimator-id-5\" class=\"sk-toggleable__label fitted sk-toggleable__label-arrow fitted\">&nbsp;&nbsp;LinearSVC<a class=\"sk-estimator-doc-link fitted\" rel=\"noreferrer\" target=\"_blank\" href=\"https://scikit-learn.org/1.5/modules/generated/sklearn.svm.LinearSVC.html\">?<span>Documentation for LinearSVC</span></a><span class=\"sk-estimator-doc-link fitted\">i<span>Fitted</span></span></label><div class=\"sk-toggleable__content fitted\"><pre>LinearSVC()</pre></div> </div></div></div></div>"
      ],
      "text/plain": [
       "LinearSVC()"
      ]
     },
     "execution_count": 155,
     "metadata": {},
     "output_type": "execute_result"
    }
   ],
   "source": [
    "clf=svm.LinearSVC()\n",
    "clf.fit(train_x,train_y)"
   ]
  },
  {
   "cell_type": "markdown",
   "metadata": {},
   "source": [
    "### Accuracy"
   ]
  },
  {
   "cell_type": "code",
   "execution_count": 158,
   "metadata": {},
   "outputs": [],
   "source": [
    "from sklearn.metrics import accuracy_score,classification_report"
   ]
  },
  {
   "cell_type": "code",
   "execution_count": 157,
   "metadata": {},
   "outputs": [
    {
     "name": "stdout",
     "output_type": "stream",
     "text": [
      "The accuracy of our model is 53.062%\n"
     ]
    }
   ],
   "source": [
    "y_pred=clf.predict(val_x)\n",
    "accuracy=accuracy_score(y_true=val_y,y_pred=y_pred)\n",
    "print(f\"The accuracy of our model is {round(accuracy*100,ndigits=3)}%\")"
   ]
  },
  {
   "cell_type": "markdown",
   "metadata": {},
   "source": [
    "The accuracy isn't that good, it might be as good as just randomly assigning labels which will yield a 50% accuracy"
   ]
  },
  {
   "cell_type": "markdown",
   "metadata": {},
   "source": [
    "### Classification Report"
   ]
  },
  {
   "cell_type": "code",
   "execution_count": 159,
   "metadata": {},
   "outputs": [
    {
     "name": "stdout",
     "output_type": "stream",
     "text": [
      "              precision    recall  f1-score   support\n",
      "\n",
      "    negative       0.53      0.61      0.57      4008\n",
      "     positve       0.54      0.45      0.49      3992\n",
      "\n",
      "    accuracy                           0.53      8000\n",
      "   macro avg       0.53      0.53      0.53      8000\n",
      "weighted avg       0.53      0.53      0.53      8000\n",
      "\n"
     ]
    }
   ],
   "source": [
    "print(classification_report(val_y, y_pred, target_names=['negative', 'positve']))"
   ]
  },
  {
   "cell_type": "markdown",
   "metadata": {},
   "source": [
    "### Saving Model"
   ]
  },
  {
   "cell_type": "code",
   "execution_count": 161,
   "metadata": {},
   "outputs": [],
   "source": [
    "import pickle\n",
    "with open('Sentiment-analysis weights/linear_svm_model.pkl','wb') as f:\n",
    "    pickle.dump(clf,f)"
   ]
  }
 ],
 "metadata": {
  "kernelspec": {
   "display_name": "base",
   "language": "python",
   "name": "python3"
  },
  "language_info": {
   "codemirror_mode": {
    "name": "ipython",
    "version": 3
   },
   "file_extension": ".py",
   "mimetype": "text/x-python",
   "name": "python",
   "nbconvert_exporter": "python",
   "pygments_lexer": "ipython3",
   "version": "3.12.4"
  }
 },
 "nbformat": 4,
 "nbformat_minor": 2
}
